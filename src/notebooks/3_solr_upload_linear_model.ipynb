{
 "cells": [
  {
   "cell_type": "markdown",
   "metadata": {},
   "source": [
    "### **UPLOADING OF LINEAR MODEL DEFINITIONS TO SOLR for FEATURE VALUE EXTRACTION**"
   ]
  },
  {
   "cell_type": "markdown",
   "metadata": {},
   "source": [
    "### **LIBRARIES**"
   ]
  },
  {
   "cell_type": "code",
   "execution_count": 1,
   "metadata": {},
   "outputs": [],
   "source": [
    "import json \n",
    "import solr"
   ]
  },
  {
   "cell_type": "markdown",
   "metadata": {},
   "source": [
    "### **GLOBAL VARIABLES**"
   ]
  },
  {
   "cell_type": "code",
   "execution_count": 2,
   "metadata": {},
   "outputs": [],
   "source": [
    "SOLR_URL = \"http://localhost:8983/solr/core1\"\n",
    "\n",
    "headers = {\"Content-type\": \"application/json\"}"
   ]
  },
  {
   "cell_type": "markdown",
   "metadata": {},
   "source": [
    "### **RUN!**"
   ]
  },
  {
   "cell_type": "markdown",
   "metadata": {},
   "source": [
    "### **UPLOAD FEATURE STORES AND MODEL STORES TO SOLR** ###"
   ]
  },
  {
   "cell_type": "code",
   "execution_count": 3,
   "metadata": {},
   "outputs": [
    {
     "name": "stdout",
     "output_type": "stream",
     "text": [
      "{\n",
      "  \"responseHeader\":{\n",
      "    \"status\":0,\n",
      "    \"QTime\":11}}\n",
      "\n",
      "{\n",
      "  \"responseHeader\":{\n",
      "    \"status\":0,\n",
      "    \"QTime\":9}}\n",
      "\n",
      "{\n",
      "  \"responseHeader\":{\n",
      "    \"status\":0,\n",
      "    \"QTime\":10}}\n",
      "\n",
      "{\n",
      "  \"responseHeader\":{\n",
      "    \"status\":0,\n",
      "    \"QTime\":2}}\n",
      "\n",
      "{\n",
      "  \"responseHeader\":{\n",
      "    \"status\":0,\n",
      "    \"QTime\":1}}\n",
      "\n",
      "{\n",
      "  \"responseHeader\":{\n",
      "    \"status\":0,\n",
      "    \"QTime\":2}}\n",
      "\n"
     ]
    }
   ],
   "source": [
    "# Delete all existing MS first\n",
    "\n",
    "solr.delete_model_store(SOLR_URL + \"/schema/model-store/linear_model1\")\n",
    "solr.delete_model_store(SOLR_URL + \"/schema/model-store/linear_model2\")\n",
    "\n",
    "solr.delete_model_store(SOLR_URL + \"/schema/model-store/lambdamart_model1\")\n",
    "solr.delete_model_store(SOLR_URL + \"/schema/model-store/lambdamart_model2\")\n",
    "\n",
    "solr.delete_model_store(SOLR_URL + \"/schema/model-store/lambdamart_model1_baseline\")\n",
    "solr.delete_model_store(SOLR_URL + \"/schema/model-store/lambdamart_model2_baseline\")"
   ]
  },
  {
   "cell_type": "code",
   "execution_count": 4,
   "metadata": {},
   "outputs": [
    {
     "name": "stdout",
     "output_type": "stream",
     "text": [
      "{\n",
      "  \"responseHeader\":{\n",
      "    \"status\":0,\n",
      "    \"QTime\":5}}\n",
      "\n",
      "{\n",
      "  \"responseHeader\":{\n",
      "    \"status\":0,\n",
      "    \"QTime\":3}}\n",
      "\n"
     ]
    }
   ],
   "source": [
    "ms1 = solr.model_store1()\n",
    "ms2 = solr.model_store2()\n",
    "\n",
    "solr.create_model_store(SOLR_URL + \"/schema/model-store\", headers, json.dumps(ms1))\n",
    "solr.create_model_store(SOLR_URL + \"/schema/model-store\", headers, json.dumps(ms2))"
   ]
  },
  {
   "cell_type": "code",
   "execution_count": null,
   "metadata": {},
   "outputs": [],
   "source": []
  }
 ],
 "metadata": {
  "kernelspec": {
   "display_name": "Python 3",
   "language": "python",
   "name": "python3"
  },
  "language_info": {
   "codemirror_mode": {
    "name": "ipython",
    "version": 3
   },
   "file_extension": ".py",
   "mimetype": "text/x-python",
   "name": "python",
   "nbconvert_exporter": "python",
   "pygments_lexer": "ipython3",
   "version": "3.7.9"
  }
 },
 "nbformat": 4,
 "nbformat_minor": 4
}
