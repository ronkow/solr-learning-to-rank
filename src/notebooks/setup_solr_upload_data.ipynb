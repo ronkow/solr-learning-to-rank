{
 "cells": [
  {
   "cell_type": "markdown",
   "metadata": {},
   "source": [
    "### **SETUP OF SOLR - UPLOADING DATA (1002 DOCUMENTS)**"
   ]
  },
  {
   "cell_type": "markdown",
   "metadata": {},
   "source": [
    "### **LIBRARIES**"
   ]
  },
  {
   "cell_type": "code",
   "execution_count": 1,
   "metadata": {},
   "outputs": [],
   "source": [
    "import os        # os.path.join\n",
    "import csv       # csv.DictReader\n",
    "import json      # json.dumps\n",
    "import requests  # requests.post"
   ]
  },
  {
   "cell_type": "markdown",
   "metadata": {},
   "source": [
    "### **DATA PATHS**"
   ]
  },
  {
   "cell_type": "code",
   "execution_count": 2,
   "metadata": {},
   "outputs": [],
   "source": [
    "DATA_DIR   = \"data/\"\n",
    "\n",
    "FEATURE_DOC   = os.path.join(DATA_DIR, \"feature/feature_doc.csv\")\n",
    "FEATURE_QUERY   = os.path.join(DATA_DIR, \"feature/feature_query.csv\")"
   ]
  },
  {
   "cell_type": "markdown",
   "metadata": {},
   "source": [
    "### **GLOBAL VARIABLES**"
   ]
  },
  {
   "cell_type": "code",
   "execution_count": null,
   "metadata": {},
   "outputs": [],
   "source": [
    "SOLR_URL = \"http://localhost:8983/solr/core1\""
   ]
  },
  {
   "cell_type": "markdown",
   "metadata": {},
   "source": [
    "### **UPLOAD DATA (i.e., DOCUMENT FEATURES) FROM CSV FILE TO SOLR**"
   ]
  },
  {
   "cell_type": "code",
   "execution_count": 3,
   "metadata": {},
   "outputs": [],
   "source": [
    "def add_record_to_solr(solr_url, \n",
    "                       id, \n",
    "                       qb_question,\n",
    "                       qb_answer,\n",
    "                       qb_choice1,\n",
    "                       qb_choice2,\n",
    "                       qb_choice3,\n",
    "                       qb_topic_id,\n",
    "                       topic,\n",
    "                       qa, \n",
    "                       qa_pos,\n",
    "                       qa_pos_bigram,\n",
    "                       qa_pos_trigram,\n",
    "                       qa_parse_tree,\n",
    "                       ss, \n",
    "                       ss_pos,\n",
    "                       ss_pos_bigram,\n",
    "                       ss_pos_trigram,\n",
    "                       ss_parse_tree,\n",
    "                       before,\n",
    "                       before_last,\n",
    "                       before_last_pos,\n",
    "                       before_pos,\n",
    "                       before_pos_bigram,\n",
    "                       before_pos_trigram,\n",
    "                       before_parse_tree,\n",
    "                       after,\n",
    "                       after_first,\n",
    "                       after_first_pos,\n",
    "                       after_pos,\n",
    "                       after_pos_bigram,\n",
    "                       after_pos_trigram,\n",
    "                       after_parse_tree,    \n",
    "                       ans,\n",
    "                       ans_first,\n",
    "                       ans_last,\n",
    "                       ans_pos,\n",
    "                       ans_first_pos,\n",
    "                       ans_last_pos,\n",
    "                       ans_is_first, \n",
    "                       ans_is_last, \n",
    "                       ans_length,  \n",
    "                       should_commit=False):\n",
    "    \"\"\"\n",
    "    Parameters: values for fields in FEATURE_DOC\n",
    "    \n",
    "    The data is converted to JSON format and moved to Solr using Solr's HTTP API.\n",
    "    The POST request is equivalent to this command in terminal:\n",
    "    curl -X POST -H 'content-type:application/json' 'http://localhost:8983/solr/my_core/update' --data-binary  '[{...}]'   \n",
    "    \"\"\"\n",
    "    \n",
    "    headers = {\n",
    "        \"content-type\": \"application/json\",\n",
    "        \"accept\": \"application/json\"\n",
    "    }\n",
    "    \n",
    "    if id is None:\n",
    "        requests.post(solr_url + \"update\", params={\"commit\": \"true\"}, headers=headers)\n",
    "    else:\n",
    "        req_body = json.dumps({\n",
    "            \"add\": {\n",
    "                \"doc\": {\n",
    "                    \"id\": id,        # name must be id in JSON (not doc_id)\n",
    "                    \"qb_question\": qb_question,\n",
    "                    \"qb_answer\": qb_answer,\n",
    "                    \"qb_choice1\": qb_choice1,\n",
    "                    \"qb_choice2\": qb_choice2,\n",
    "                    \"qb_choice3\": qb_choice3,\n",
    "                    \"qb_topic_id\": qb_topic_id,\n",
    "                    \"topic\": topic,\n",
    "                    \"qa\": qa,\n",
    "                    \"qa_pos\": qa_pos,\n",
    "                    \"qa_pos_bigram\": qa_pos_bigram,\n",
    "                    \"qa_pos_trigram\": qa_pos_trigram,\n",
    "                    \"qa_parse_tree\": qa_parse_tree,\n",
    "                    \"ss\": ss,\n",
    "                    \"ss_pos\": ss_pos,\n",
    "                    \"ss_pos_bigram\": ss_pos_bigram,\n",
    "                    \"ss_pos_trigram\": ss_pos_trigram,\n",
    "                    \"ss_parse_tree\": ss_parse_tree,\n",
    "                    \"before\": before,\n",
    "                    \"before_last\": before_last,\n",
    "                    \"before_last_pos\": before_last_pos,\n",
    "                    \"before_pos\": before_pos,\n",
    "                    \"before_pos_bigram\": before_pos_bigram,\n",
    "                    \"before_pos_trigram\": before_pos_trigram,\n",
    "                    \"before_parse_tree\": before_parse_tree,\n",
    "                    \"after\": after,\n",
    "                    \"after_first\": after_first,\n",
    "                    \"after_first_pos\": after_first_pos,\n",
    "                    \"after_pos\": after_pos,\n",
    "                    \"after_pos_bigram\": after_pos_bigram,\n",
    "                    \"after_pos_trigram\": after_pos_trigram,\n",
    "                    \"after_parse_tree\": after_parse_tree,    \n",
    "                    \"ans\": ans,\n",
    "                    \"ans_first\": ans_first,\n",
    "                    \"ans_last\": ans_last,\n",
    "                    \"ans_pos\": ans_pos,\n",
    "                    \"ans_first_pos\": ans_first_pos,\n",
    "                    \"ans_last_pos\": ans_last_pos,\n",
    "                    \"ans_is_first\": ans_is_first,\n",
    "                    \"ans_is_last\": ans_is_last,\n",
    "                    \"ans_length\":  ans_length\n",
    "                }\n",
    "            }\n",
    "        })\n",
    "        params = { \"commit\": \"true\" if should_commit else \"false\" }\n",
    "        requests.post(solr_url + \"/update\", data=req_body, params=params, headers=headers)"
   ]
  },
  {
   "cell_type": "code",
   "execution_count": 4,
   "metadata": {},
   "outputs": [],
   "source": [
    "def get_record_from_csv(filepath):\n",
    "    \"\"\"\n",
    "    Parameter: \n",
    "        filepath: path of csv file of document data\n",
    "    Calls: add_record_to_solr()\n",
    "    \"\"\"\n",
    "    i = 0\n",
    "    should_commit = False\n",
    "\n",
    "    with open(filepath, \"r\") as csvfile:\n",
    "        reader = csv.DictReader(csvfile)\n",
    "\n",
    "        for row in reader:\n",
    "            if i % 100 == 0:\n",
    "                print(f\"{i} records moved to Solr\")\n",
    "            \n",
    "            id = int(row[\"id\"])\n",
    "            qb_question = row[\"qb_question\"]\n",
    "            qb_answer = row[\"qb_answer\"]\n",
    "            qb_choice1 = row[\"qb_choice1\"]\n",
    "            qb_choice2 = row[\"qb_choice2\"]\n",
    "            qb_choice3 = row[\"qb_choice3\"]\n",
    "            qb_topic_id = int(row[\"qb_topic_id\"])\n",
    "            topic = row[\"topic\"]\n",
    "            qa = row[\"qa\"]\n",
    "            qa_pos = row[\"qa_pos\"]\n",
    "            qa_pos_bigram = row[\"qa_pos_bigram\"]\n",
    "            qa_pos_trigram = row[\"qa_pos_trigram\"]\n",
    "            qa_parse_tree = row[\"qa_parse_tree\"]\n",
    "            ss = row[\"ss\"]\n",
    "            ss_pos = row[\"ss_pos\"]\n",
    "            ss_pos_bigram = row[\"ss_pos_bigram\"]\n",
    "            ss_pos_trigram = row[\"ss_pos_trigram\"]\n",
    "            ss_parse_tree = row[\"ss_parse_tree\"]\n",
    "            before = row[\"before\"]\n",
    "            before_last = row[\"before_last\"]\n",
    "            before_last_pos = row[\"before_last_pos\"]\n",
    "            before_pos = row[\"before_pos\"]\n",
    "            before_pos_bigram = row[\"before_pos_bigram\"]\n",
    "            before_pos_trigram = row[\"before_pos_trigram\"]\n",
    "            before_parse_tree = row[\"before_parse_tree\"]\n",
    "            after = row[\"after\"]\n",
    "            after_first = row[\"after_first\"]\n",
    "            after_first_pos = row[\"after_first_pos\"]\n",
    "            after_pos = row[\"after_pos\"]\n",
    "            after_pos_bigram = row[\"after_pos_bigram\"]\n",
    "            after_pos_trigram = row[\"after_pos_trigram\"]\n",
    "            after_parse_tree = row[\"after_parse_tree\"]\n",
    "            ans = row[\"ans\"]\n",
    "            ans_first = row[\"ans_first\"]\n",
    "            ans_last = row[\"ans_last\"]\n",
    "            ans_pos = row[\"ans_pos\"]\n",
    "            ans_first_pos = row[\"ans_first_pos\"]\n",
    "            ans_last_pos = row[\"ans_last_pos\"]\n",
    "            ans_is_first = row[\"ans_is_first\"]\n",
    "            ans_is_last = row[\"ans_is_last\"]\n",
    "            ans_length = row[\"ans_length\"]\n",
    "            \n",
    "            add_record_to_solr(SOLR_URL, \n",
    "                               id, \n",
    "                               qb_question,\n",
    "                               qb_answer,\n",
    "                               qb_choice1,\n",
    "                               qb_choice2,\n",
    "                               qb_choice3,\n",
    "                               qb_topic_id,\n",
    "                               topic,\n",
    "                               qa, \n",
    "                               qa_pos,\n",
    "                               qa_pos_bigram,\n",
    "                               qa_pos_trigram,\n",
    "                               qa_parse_tree,\n",
    "                               ss, \n",
    "                               ss_pos,\n",
    "                               ss_pos_bigram,\n",
    "                               ss_pos_trigram,\n",
    "                               ss_parse_tree,\n",
    "                               before,\n",
    "                               before_last,\n",
    "                               before_last_pos,\n",
    "                               before_pos,\n",
    "                               before_pos_bigram,\n",
    "                               before_pos_trigram,\n",
    "                               before_parse_tree,\n",
    "                               after,\n",
    "                               after_first,\n",
    "                               after_first_pos,\n",
    "                               after_pos,\n",
    "                               after_pos_bigram,\n",
    "                               after_pos_trigram,\n",
    "                               after_parse_tree,    \n",
    "                               ans,\n",
    "                               ans_first,\n",
    "                               ans_last,\n",
    "                               ans_pos,\n",
    "                               ans_first_pos,\n",
    "                               ans_last_pos,\n",
    "                               ans_is_first, \n",
    "                               ans_is_last, \n",
    "                               ans_length,  \n",
    "                               should_commit=True)\n",
    "            should_commit = False\n",
    "            i += 1\n",
    "            \n",
    "    print(f\"Total of {i} records moved to Solr\")  "
   ]
  },
  {
   "cell_type": "markdown",
   "metadata": {},
   "source": [
    "### **RUN!**"
   ]
  },
  {
   "cell_type": "code",
   "execution_count": 5,
   "metadata": {},
   "outputs": [
    {
     "name": "stdout",
     "output_type": "stream",
     "text": [
      "0 records moved to Solr\n",
      "100 records moved to Solr\n",
      "200 records moved to Solr\n",
      "300 records moved to Solr\n",
      "400 records moved to Solr\n",
      "500 records moved to Solr\n",
      "600 records moved to Solr\n",
      "700 records moved to Solr\n",
      "800 records moved to Solr\n",
      "Total of 850 records moved to Solr\n"
     ]
    }
   ],
   "source": [
    "get_record_from_csv(FEATURE_DOC)"
   ]
  },
  {
   "cell_type": "code",
   "execution_count": 6,
   "metadata": {},
   "outputs": [
    {
     "name": "stdout",
     "output_type": "stream",
     "text": [
      "0 records moved to Solr\n",
      "100 records moved to Solr\n",
      "Total of 152 records moved to Solr\n"
     ]
    }
   ],
   "source": [
    "get_record_from_csv(FEATURE_QUERY)"
   ]
  },
  {
   "cell_type": "code",
   "execution_count": null,
   "metadata": {},
   "outputs": [],
   "source": []
  }
 ],
 "metadata": {
  "kernelspec": {
   "display_name": "Python 3 (ipykernel)",
   "language": "python",
   "name": "python3"
  },
  "language_info": {
   "codemirror_mode": {
    "name": "ipython",
    "version": 3
   },
   "file_extension": ".py",
   "mimetype": "text/x-python",
   "name": "python",
   "nbconvert_exporter": "python",
   "pygments_lexer": "ipython3",
   "version": "3.10.8"
  }
 },
 "nbformat": 4,
 "nbformat_minor": 4
}
