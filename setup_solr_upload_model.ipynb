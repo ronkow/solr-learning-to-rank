{
 "cells": [
  {
   "cell_type": "markdown",
   "metadata": {},
   "source": [
    "### **LIBRARIES**"
   ]
  },
  {
   "cell_type": "code",
   "execution_count": 1,
   "metadata": {},
   "outputs": [],
   "source": [
    "import os        \n",
    "import json      \n",
    "import requests\n",
    "import solr"
   ]
  },
  {
   "cell_type": "markdown",
   "metadata": {},
   "source": [
    "### **DATA PATHS**"
   ]
  },
  {
   "cell_type": "code",
   "execution_count": 2,
   "metadata": {},
   "outputs": [],
   "source": [
    "MODEL_DIR  = \"model/\"\n",
    "\n",
    "SOLR_MODEL1 = os.path.join(MODEL_DIR, \"model1.json\")\n",
    "SOLR_MODEL2 = os.path.join(MODEL_DIR, \"model2.json\")"
   ]
  },
  {
   "cell_type": "markdown",
   "metadata": {},
   "source": [
    "### **GLOBAL VARIABLES**"
   ]
  },
  {
   "cell_type": "code",
   "execution_count": 3,
   "metadata": {},
   "outputs": [],
   "source": [
    "SOLR_URL = \"http://localhost:8983/solr/core1\" \n",
    "\n",
    "headers = {\"Content-type\": \"application/json\"}"
   ]
  },
  {
   "cell_type": "markdown",
   "metadata": {},
   "source": [
    "### **UPLOAD MODELS TO SOLR**"
   ]
  },
  {
   "cell_type": "code",
   "execution_count": 7,
   "metadata": {},
   "outputs": [],
   "source": [
    "def upload_model_to_solr(SOLR_MODEL, SOLR_URL):\n",
    "    \"\"\"\n",
    "    Upload model to model store in Solr\n",
    "    Parameters:\n",
    "        SOLR_MODEL: path of tree model file in JSON format\n",
    "        SOLR_URL: path of model store in Solr\n",
    "    \"\"\"\n",
    "    lines = []\n",
    "\n",
    "    with open(SOLR_MODEL, \"r\") as fjson:\n",
    "        for line in fjson:\n",
    "            lines.append(line.strip())\n",
    "        \n",
    "    data = \" \".join(lines)\n",
    "    resp = requests.put(SOLR_URL + \"/schema/model-store\", headers=headers, data=data)\n",
    "    print(resp.text)"
   ]
  },
  {
   "cell_type": "markdown",
   "metadata": {},
   "source": [
    "### **RUN!**"
   ]
  },
  {
   "cell_type": "code",
   "execution_count": 8,
   "metadata": {},
   "outputs": [
    {
     "name": "stdout",
     "output_type": "stream",
     "text": [
      "{\n",
      "  \"responseHeader\":{\n",
      "    \"status\":0,\n",
      "    \"QTime\":1}}\n",
      "\n",
      "{\n",
      "  \"responseHeader\":{\n",
      "    \"status\":0,\n",
      "    \"QTime\":2}}\n",
      "\n",
      "{\n",
      "  \"responseHeader\":{\n",
      "    \"status\":0,\n",
      "    \"QTime\":3}}\n",
      "\n",
      "{\n",
      "  \"responseHeader\":{\n",
      "    \"status\":0,\n",
      "    \"QTime\":3}}\n",
      "\n",
      "{\n",
      "  \"responseHeader\":{\n",
      "    \"status\":0,\n",
      "    \"QTime\":10}}\n",
      "\n",
      "{\n",
      "  \"responseHeader\":{\n",
      "    \"status\":0,\n",
      "    \"QTime\":4}}\n",
      "\n"
     ]
    }
   ],
   "source": [
    "# Delete all existing MS first\n",
    "\n",
    "solr.delete_model_store(SOLR_URL + \"/schema/model-store/linear_model1\")\n",
    "solr.delete_model_store(SOLR_URL + \"/schema/model-store/linear_model2\")\n",
    "\n",
    "solr.delete_model_store(SOLR_URL + \"/schema/model-store/lambdamart_model1\")\n",
    "solr.delete_model_store(SOLR_URL + \"/schema/model-store/lambdamart_model2\")\n",
    "\n",
    "solr.delete_model_store(SOLR_URL + \"/schema/model-store/lambdamart_model1_baseline\")\n",
    "solr.delete_model_store(SOLR_URL + \"/schema/model-store/lambdamart_model2_baseline\")"
   ]
  },
  {
   "cell_type": "code",
   "execution_count": 9,
   "metadata": {},
   "outputs": [
    {
     "name": "stdout",
     "output_type": "stream",
     "text": [
      "{\n",
      "  \"responseHeader\":{\n",
      "    \"status\":0,\n",
      "    \"QTime\":79}}\n",
      "\n",
      "{\n",
      "  \"responseHeader\":{\n",
      "    \"status\":0,\n",
      "    \"QTime\":200}}\n",
      "\n"
     ]
    }
   ],
   "source": [
    "upload_model_to_solr(SOLR_MODEL1, SOLR_URL)\n",
    "upload_model_to_solr(SOLR_MODEL2, SOLR_URL)"
   ]
  },
  {
   "cell_type": "code",
   "execution_count": null,
   "metadata": {},
   "outputs": [],
   "source": []
  }
 ],
 "metadata": {
  "kernelspec": {
   "display_name": "Python 3",
   "language": "python",
   "name": "python3"
  },
  "language_info": {
   "codemirror_mode": {
    "name": "ipython",
    "version": 3
   },
   "file_extension": ".py",
   "mimetype": "text/x-python",
   "name": "python",
   "nbconvert_exporter": "python",
   "pygments_lexer": "ipython3",
   "version": "3.7.9"
  }
 },
 "nbformat": 4,
 "nbformat_minor": 4
}
