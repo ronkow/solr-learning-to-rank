{
 "cells": [
  {
   "cell_type": "markdown",
   "metadata": {},
   "source": [
    "### **LIBRARIES**"
   ]
  },
  {
   "cell_type": "code",
   "execution_count": 8,
   "metadata": {},
   "outputs": [],
   "source": [
    "import json      # json.dumps\n",
    "import solr"
   ]
  },
  {
   "cell_type": "markdown",
   "metadata": {},
   "source": [
    "### **GLOBAL VARIABLES**"
   ]
  },
  {
   "cell_type": "code",
   "execution_count": 9,
   "metadata": {},
   "outputs": [],
   "source": [
    "SOLR_URL = \"http://localhost:8983/solr/core1\""
   ]
  },
  {
   "cell_type": "markdown",
   "metadata": {},
   "source": [
    "### **UPLOAD FEATURE STORES AND MODEL STORES TO SOLR** ###"
   ]
  },
  {
   "cell_type": "code",
   "execution_count": 10,
   "metadata": {},
   "outputs": [
    {
     "name": "stdout",
     "output_type": "stream",
     "text": [
      "{\n",
      "  \"responseHeader\":{\n",
      "    \"status\":0,\n",
      "    \"QTime\":2}}\n",
      "\n",
      "{\n",
      "  \"responseHeader\":{\n",
      "    \"status\":0,\n",
      "    \"QTime\":1}}\n",
      "\n",
      "{\n",
      "  \"responseHeader\":{\n",
      "    \"status\":0,\n",
      "    \"QTime\":133}}\n",
      "\n",
      "{\n",
      "  \"responseHeader\":{\n",
      "    \"status\":0,\n",
      "    \"QTime\":2}}\n",
      "\n"
     ]
    }
   ],
   "source": [
    "# Delete old FS and MS first\n",
    "\n",
    "headers = {\"Content-type\": \"application/json\"}\n",
    "\n",
    "utils.delete_feature_store(SOLR_URL + \"/schema/feature-store/feature_store1\")\n",
    "utils.delete_model_store(SOLR_URL + \"/schema/model-store/linear_model1\")\n",
    "\n",
    "utils.delete_feature_store(SOLR_URL + \"/schema/feature-store/feature_store2\")\n",
    "utils.delete_model_store(SOLR_URL + \"/schema/model-store/linear_model2\")\n",
    "\n"
   ]
  },
  {
   "cell_type": "code",
   "execution_count": 11,
   "metadata": {},
   "outputs": [
    {
     "name": "stdout",
     "output_type": "stream",
     "text": [
      "{\n",
      "  \"responseHeader\":{\n",
      "    \"status\":0,\n",
      "    \"QTime\":3}}\n",
      "\n",
      "{\n",
      "  \"responseHeader\":{\n",
      "    \"status\":0,\n",
      "    \"QTime\":2}}\n",
      "\n",
      "{\n",
      "  \"responseHeader\":{\n",
      "    \"status\":0,\n",
      "    \"QTime\":14}}\n",
      "\n",
      "{\n",
      "  \"responseHeader\":{\n",
      "    \"status\":0,\n",
      "    \"QTime\":3}}\n",
      "\n"
     ]
    }
   ],
   "source": [
    "fs1 = solr.feature_store1()\n",
    "ms1 = solr.model_store1()\n",
    "\n",
    "fs2 = solr.feature_store2()\n",
    "ms2 = solr.model_store2()\n",
    "\n",
    "utils.create_feature_store(SOLR_URL + \"/schema/feature-store\", headers, json.dumps(fs1))\n",
    "utils.create_model_store(SOLR_URL + \"/schema/model-store\", headers, json.dumps(ms1))\n",
    "\n",
    "utils.create_feature_store(SOLR_URL + \"/schema/feature-store\", headers, json.dumps(fs2))\n",
    "utils.create_model_store(SOLR_URL + \"/schema/model-store\", headers, json.dumps(ms2))"
   ]
  }
 ],
 "metadata": {
  "kernelspec": {
   "display_name": "Python 3",
   "language": "python",
   "name": "python3"
  },
  "language_info": {
   "codemirror_mode": {
    "name": "ipython",
    "version": 3
   },
   "file_extension": ".py",
   "mimetype": "text/x-python",
   "name": "python",
   "nbconvert_exporter": "python",
   "pygments_lexer": "ipython3",
   "version": "3.8.3"
  }
 },
 "nbformat": 4,
 "nbformat_minor": 4
}
