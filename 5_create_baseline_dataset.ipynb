{
 "cells": [
  {
   "cell_type": "markdown",
   "metadata": {},
   "source": [
    "#### To create baseline datasets, simply edit the model datasets to include only the first feature value: BM25 on sentence (Model 1) or substring (Model 2)."
   ]
  },
  {
   "cell_type": "markdown",
   "metadata": {},
   "source": [
    "### **LIBRARIES**"
   ]
  },
  {
   "cell_type": "code",
   "execution_count": 7,
   "metadata": {},
   "outputs": [],
   "source": [
    "import os "
   ]
  },
  {
   "cell_type": "markdown",
   "metadata": {},
   "source": [
    "### **DATA PATHS**"
   ]
  },
  {
   "cell_type": "code",
   "execution_count": 8,
   "metadata": {},
   "outputs": [],
   "source": [
    "DATA_DIR   = \"data/model/\"\n",
    "\n",
    "FILE_MODEL1_TRAIN    = os.path.join(DATA_DIR, \"model1_train.txt\")\n",
    "FILE_MODEL1_VALIDATE = os.path.join(DATA_DIR, \"model1_validate.txt\")\n",
    "FILE_MODEL1_TEST     = os.path.join(DATA_DIR, \"model1_test.txt\")\n",
    "\n",
    "FILE_MODEL2_TRAIN    = os.path.join(DATA_DIR, \"model2_train.txt\")\n",
    "FILE_MODEL2_VALIDATE = os.path.join(DATA_DIR, \"model2_validate.txt\")\n",
    "FILE_MODEL2_TEST     = os.path.join(DATA_DIR, \"model2_test.txt\")\n",
    "\n",
    "\n",
    "FILE_MODEL1_TRAIN_BASELINE    = os.path.join(DATA_DIR, \"baseline_model1_train.txt\")\n",
    "FILE_MODEL1_VALIDATE_BASELINE = os.path.join(DATA_DIR, \"baseline_model1_validate.txt\")\n",
    "FILE_MODEL1_TEST_BASELINE     = os.path.join(DATA_DIR, \"baseline_model1_test.txt\")\n",
    "\n",
    "FILE_MODEL2_TRAIN_BASELINE    = os.path.join(DATA_DIR, \"baseline_model2_train.txt\")\n",
    "FILE_MODEL2_VALIDATE_BASELINE = os.path.join(DATA_DIR, \"baseline_model2_validate.txt\")\n",
    "FILE_MODEL2_TEST_BASELINE     = os.path.join(DATA_DIR, \"baseline_model2_test.txt\")"
   ]
  },
  {
   "cell_type": "markdown",
   "metadata": {},
   "source": [
    "### **CREATE DATASETS FOR BASELINE MODELS**"
   ]
  },
  {
   "cell_type": "code",
   "execution_count": 9,
   "metadata": {},
   "outputs": [],
   "source": [
    "def get_final_data(data_type, model):\n",
    "    \"\"\"\n",
    "    Parameters:\n",
    "        data_type: One of the following strings:\n",
    "            train, validate, test\n",
    "        model: One of the following integers:\n",
    "            1: Model 1\n",
    "            2: Model 2\n",
    "    Return:\n",
    "        FILE_READ: path of file to be read\n",
    "        FILE_WRITE: path of file to write to\n",
    "    \"\"\"\n",
    "    if model==1:\n",
    "        if data_type == 'train':\n",
    "            FILE_READ = FILE_MODEL1_TRAIN\n",
    "            FILE_WRITE = FILE_MODEL1_TRAIN_BASELINE\n",
    "        \n",
    "        elif data_type == 'validate':   \n",
    "            FILE_READ = FILE_MODEL1_VALIDATE\n",
    "            FILE_WRITE = FILE_MODEL1_VALIDATE_BASELINE\n",
    "        \n",
    "        elif data_type == 'test':\n",
    "            FILE_READ = FILE_MODEL1_TEST\n",
    "            FILE_WRITE = FILE_MODEL1_TEST_BASELINE\n",
    "\n",
    "    elif model==2:\n",
    "        if data_type == 'train':\n",
    "            FILE_READ = FILE_MODEL2_TRAIN\n",
    "            FILE_WRITE = FILE_MODEL2_TRAIN_BASELINE\n",
    "        \n",
    "        elif data_type == 'validate':   \n",
    "            FILE_READ = FILE_MODEL2_VALIDATE\n",
    "            FILE_WRITE = FILE_MODEL2_VALIDATE_BASELINE\n",
    "        \n",
    "        elif data_type == 'test':\n",
    "            FILE_READ = FILE_MODEL2_TEST\n",
    "            FILE_WRITE = FILE_MODEL2_TEST_BASELINE\n",
    "\n",
    "    return FILE_READ, FILE_WRITE        "
   ]
  },
  {
   "cell_type": "code",
   "execution_count": 10,
   "metadata": {},
   "outputs": [],
   "source": [
    "def baseline_dataset(FILE_READ, FILE_WRITE, model):\n",
    "    \"\"\"\n",
    "    Creates the dataset for the baseline model by selecting the required features (and values) from the dataset with all features\n",
    "    Parameters:\n",
    "        FILE_READ: Path of file to be read\n",
    "        FILE_WRITE: Path of file to write to\n",
    "        model: One of the following strings:\n",
    "           train, validate, test\n",
    "    \"\"\"\n",
    "    data_list = []\n",
    "    baseline_data_list = []\n",
    "    \n",
    "    with open(FILE_READ, 'r') as fread:\n",
    "        for line in fread:\n",
    "            data_list.append(line)\n",
    "\n",
    "    for i, record in enumerate(data_list):\n",
    "        record_list = record.split()\n",
    "        \n",
    "        for k, feature in enumerate(record_list):\n",
    "            if model==1:\n",
    "                if k==0:\n",
    "                    baseline_data_list.append(feature)\n",
    "                elif k==1 or k==2 or k==7:\n",
    "                    baseline_data_list[i] += ' ' + feature\n",
    "                elif k==8:\n",
    "                    baseline_data_list[i] += ' ' + feature + '\\n'\n",
    "            \n",
    "            elif model==2:\n",
    "                if k==0:\n",
    "                    baseline_data_list.append(feature)   \n",
    "                elif k==1 or k==2 or k==30:\n",
    "                    baseline_data_list[i] += ' ' + feature\n",
    "                elif k==31:\n",
    "                    baseline_data_list[i] += ' ' + feature + '\\n' \n",
    "\n",
    "    with open(FILE_WRITE, 'w') as fwrite:\n",
    "        for x in baseline_data_list:\n",
    "            fwrite.write(x)"
   ]
  },
  {
   "cell_type": "markdown",
   "metadata": {},
   "source": [
    "### **RUN!**"
   ]
  },
  {
   "cell_type": "code",
   "execution_count": 11,
   "metadata": {},
   "outputs": [],
   "source": [
    "# MODEL 1\n",
    "FILE_READ, FILE_WRITE = get_final_data('train', 1)  \n",
    "baseline_dataset(FILE_READ, FILE_WRITE, 1)\n",
    "\n",
    "FILE_READ, FILE_WRITE = get_final_data('validate', 1)  \n",
    "baseline_dataset(FILE_READ, FILE_WRITE, 1)\n",
    "\n",
    "FILE_READ, FILE_WRITE = get_final_data('test', 1)  \n",
    "baseline_dataset(FILE_READ, FILE_WRITE, 1)\n",
    "\n",
    "# MODEL 2\n",
    "FILE_READ, FILE_WRITE = get_final_data('train', 2)  \n",
    "baseline_dataset(FILE_READ, FILE_WRITE, 2)\n",
    "\n",
    "FILE_READ, FILE_WRITE = get_final_data('validate', 2)  \n",
    "baseline_dataset(FILE_READ, FILE_WRITE, 2)\n",
    "\n",
    "FILE_READ, FILE_WRITE = get_final_data('test', 2)  \n",
    "baseline_dataset(FILE_READ, FILE_WRITE, 2)"
   ]
  },
  {
   "cell_type": "code",
   "execution_count": null,
   "metadata": {},
   "outputs": [],
   "source": []
  }
 ],
 "metadata": {
  "kernelspec": {
   "display_name": "Python 3",
   "language": "python",
   "name": "python3"
  },
  "language_info": {
   "codemirror_mode": {
    "name": "ipython",
    "version": 3
   },
   "file_extension": ".py",
   "mimetype": "text/x-python",
   "name": "python",
   "nbconvert_exporter": "python",
   "pygments_lexer": "ipython3",
   "version": "3.7.9"
  }
 },
 "nbformat": 4,
 "nbformat_minor": 4
}
