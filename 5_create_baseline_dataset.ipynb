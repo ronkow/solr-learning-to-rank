{
 "cells": [
    {
   "cell_type": "markdown",
   "metadata": {},
   "source": [
    "#### To create baseline datasets, simply edit the model datasets."
   ]
  },

  {
   "cell_type": "markdown",
   "metadata": {},
   "source": [
    "### **LIBRARIES**"
   ]
  },
  {
   "cell_type": "code",
   "execution_count": 1,
   "metadata": {},
   "outputs": [],
   "source": [
    "import os "
   ]
  },
  {
   "cell_type": "markdown",
   "metadata": {},
   "source": [
    "### **DATA PATHS, GLOBAL VARIABLES**"
   ]
  },
  {
   "cell_type": "code",
   "execution_count": 2,
   "metadata": {},
   "outputs": [],
   "source": [
    "DATA_DIR   = \"data/\"\n",
    "\n",
    "FILE_MODEL1_TRAIN    = os.path.join(DATA_DIR, \"final/model1_train.txt\")\n",
    "FILE_MODEL1_VALIDATE = os.path.join(DATA_DIR, \"final/model1_validate.txt\")\n",
    "FILE_MODEL1_TEST     = os.path.join(DATA_DIR, \"final/model1_test.txt\")\n",
    "\n",
    "FILE_MODEL2_TRAIN    = os.path.join(DATA_DIR, \"final/model2_train.txt\")\n",
    "FILE_MODEL2_VALIDATE = os.path.join(DATA_DIR, \"final/model2_validate.txt\")\n",
    "FILE_MODEL2_TEST     = os.path.join(DATA_DIR, \"final/model2_test.txt\")\n",
    "\n",
    "\n",
    "FILE_MODEL1_TRAIN_BASELINE    = os.path.join(DATA_DIR, \"baseline/baseline_model1_train.txt\")\n",
    "FILE_MODEL1_VALIDATE_BASELINE = os.path.join(DATA_DIR, \"baseline/baseline_model1_validate.txt\")\n",
    "FILE_MODEL1_TEST_BASELINE     = os.path.join(DATA_DIR, \"baseline/baseline_model1_test.txt\")\n",
    "\n",
    "FILE_MODEL2_TRAIN_BASELINE    = os.path.join(DATA_DIR, \"baseline/baseline_model2_train.txt\")\n",
    "FILE_MODEL2_VALIDATE_BASELINE = os.path.join(DATA_DIR, \"baseline/baseline_model2_validate.txt\")\n",
    "FILE_MODEL2_TEST_BASELINE     = os.path.join(DATA_DIR, \"baseline/baseline_model2_test.txt\")"
   ]
  },
  {
   "cell_type": "markdown",
   "metadata": {},
   "source": [
    "### **CREATE DATASETS FOR BASELINE MODELS**"
   ]
  },
  {
   "cell_type": "code",
   "execution_count": 3,
   "metadata": {},
   "outputs": [],
   "source": [
    "def get_final_data(data_type, model):\n",
    "    \n",
    "    if model==1:\n",
    "        if data_type == 'train':\n",
    "            FILE_READ = FILE_MODEL1_TRAIN\n",
    "            FILE_WRITE = FILE_MODEL1_TRAIN_BASELINE\n",
    "        \n",
    "        elif data_type == 'validate':   \n",
    "            FILE_READ = FILE_MODEL1_VALIDATE\n",
    "            FILE_WRITE = FILE_MODEL1_VALIDATE_BASELINE\n",
    "        \n",
    "        elif data_type == 'test':\n",
    "            FILE_READ = FILE_MODEL1_TEST\n",
    "            FILE_WRITE = FILE_MODEL1_TEST_BASELINE\n",
    "\n",
    "    elif model==2:\n",
    "        if data_type == 'train':\n",
    "            FILE_READ = FILE_MODEL2_TRAIN\n",
    "            FILE_WRITE = FILE_MODEL2_TRAIN_BASELINE\n",
    "        \n",
    "        elif data_type == 'validate':   \n",
    "            FILE_READ = FILE_MODEL2_VALIDATE\n",
    "            FILE_WRITE = FILE_MODEL2_VALIDATE_BASELINE\n",
    "        \n",
    "        elif data_type == 'test':\n",
    "            FILE_READ = FILE_MODEL2_TEST\n",
    "            FILE_WRITE = FILE_MODEL2_TEST_BASELINE\n",
    "\n",
    "    return FILE_READ, FILE_WRITE        "
   ]
  },
  {
   "cell_type": "code",
   "execution_count": 4,
   "metadata": {},
   "outputs": [],
   "source": [
    "def baseline_dataset_model_one(FILE_READ, FILE_WRITE):\n",
    "\n",
    "    data_list = []\n",
    "    baseline_data_list = []\n",
    "    \n",
    "    with open(FILE_READ, 'r') as fread:\n",
    "        for line in fread:\n",
    "            data_list.append(line)\n",
    "\n",
    "    for i, record in enumerate(data_list):\n",
    "        \n",
    "        record_list = record.split()\n",
    "        \n",
    "        for k, feature in enumerate(record_list):\n",
    "            \n",
    "            if k==0:\n",
    "                baseline_data_list.append(feature)\n",
    "                \n",
    "            elif k==1 or k==2 or k==7:\n",
    "                baseline_data_list[i] += ' ' + feature\n",
    "                \n",
    "            elif k==8:\n",
    "                baseline_data_list[i] += ' ' + feature + '\\n' \n",
    "                \n",
    "    with open(FILE_WRITE, 'w') as fwrite:\n",
    "        for x in baseline_data_list:\n",
    "            fwrite.write(x)"
   ]
  },
  {
   "cell_type": "code",
   "execution_count": 5,
   "metadata": {},
   "outputs": [],
   "source": [
    "def baseline_dataset_model_two(FILE_READ, FILE_WRITE):\n",
    "   \n",
    "    data_list = []\n",
    "    baseline_data_list = []\n",
    "    \n",
    "    with open(FILE_READ, 'r') as fread:\n",
    "        for line in fread:\n",
    "            data_list.append(line)\n",
    "\n",
    "    for i, record in enumerate(data_list):\n",
    "        \n",
    "        record_list = record.split()\n",
    "        \n",
    "        for k, feature in enumerate(record_list):\n",
    "            \n",
    "            if k==0:\n",
    "                baseline_data_list.append(feature)\n",
    "                \n",
    "            elif k==1 or k==2 or k==30:\n",
    "                baseline_data_list[i] += ' ' + feature\n",
    "                \n",
    "            elif k==31:\n",
    "                baseline_data_list[i] += ' ' + feature + '\\n' \n",
    "                \n",
    "    with open(FILE_WRITE, 'w') as fwrite:\n",
    "        for x in baseline_data_list:\n",
    "            fwrite.write(x)"
   ]
  },
  {
   "cell_type": "code",
   "execution_count": 6,
   "metadata": {},
   "outputs": [],
   "source": [
    "# MODEL 1\n",
    "FILE_READ, FILE_WRITE = get_final_data('train', 1)  \n",
    "baseline_dataset_model_one(FILE_READ, FILE_WRITE)\n",
    "\n",
    "FILE_READ, FILE_WRITE = get_final_data('validate', 1)  \n",
    "baseline_dataset_model_one(FILE_READ, FILE_WRITE)\n",
    "\n",
    "FILE_READ, FILE_WRITE = get_final_data('test', 1)  \n",
    "baseline_dataset_model_one(FILE_READ, FILE_WRITE)\n",
    "\n",
    "# MODEL 2\n",
    "FILE_READ, FILE_WRITE = get_final_data('train', 2)  \n",
    "baseline_dataset_model_two(FILE_READ, FILE_WRITE)\n",
    "\n",
    "FILE_READ, FILE_WRITE = get_final_data('validate', 2)  \n",
    "baseline_dataset_model_two(FILE_READ, FILE_WRITE)\n",
    "\n",
    "FILE_READ, FILE_WRITE = get_final_data('test', 2)  \n",
    "baseline_dataset_model_two(FILE_READ, FILE_WRITE)"
   ]
  }
 ],
 "metadata": {
  "kernelspec": {
   "display_name": "Python 3",
   "language": "python",
   "name": "python3"
  },
  "language_info": {
   "codemirror_mode": {
    "name": "ipython",
    "version": 3
   },
   "file_extension": ".py",
   "mimetype": "text/x-python",
   "name": "python",
   "nbconvert_exporter": "python",
   "pygments_lexer": "ipython3",
   "version": "3.8.3"
  }
 },
 "nbformat": 4,
 "nbformat_minor": 4
}
