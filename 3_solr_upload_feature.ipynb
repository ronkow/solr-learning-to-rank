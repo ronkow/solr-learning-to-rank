{
 "cells": [
  {
   "cell_type": "markdown",
   "metadata": {},
   "source": [
    "### **LIBRARIES**"
   ]
  },
  {
   "cell_type": "code",
   "execution_count": 1,
   "metadata": {},
   "outputs": [],
   "source": [
    "import json \n",
    "import solr"
   ]
  },
  {
   "cell_type": "markdown",
   "metadata": {},
   "source": [
    "### **GLOBAL VARIABLES**"
   ]
  },
  {
   "cell_type": "code",
   "execution_count": 2,
   "metadata": {},
   "outputs": [],
   "source": [
    "SOLR_URL = \"http://localhost:8983/solr/core1\""
   ]
  },
  {
   "cell_type": "markdown",
   "metadata": {},
   "source": [
    "### **RUN!**"
   ]
  },
  {
   "cell_type": "markdown",
   "metadata": {},
   "source": [
    "### **UPLOAD FEATURE STORES AND MODEL STORES TO SOLR** ###"
   ]
  },
  {
   "cell_type": "code",
   "execution_count": 3,
   "metadata": {},
   "outputs": [
    {
     "name": "stdout",
     "output_type": "stream",
     "text": [
      "{\n",
      "  \"responseHeader\":{\n",
      "    \"status\":0,\n",
      "    \"QTime\":2}}\n",
      "\n",
      "{\n",
      "  \"responseHeader\":{\n",
      "    \"status\":0,\n",
      "    \"QTime\":10}}\n",
      "\n",
      "{\n",
      "  \"responseHeader\":{\n",
      "    \"status\":0,\n",
      "    \"QTime\":3}}\n",
      "\n",
      "{\n",
      "  \"responseHeader\":{\n",
      "    \"status\":0,\n",
      "    \"QTime\":12}}\n",
      "\n"
     ]
    }
   ],
   "source": [
    "# Delete old FS and MS first\n",
    "\n",
    "headers = {\"Content-type\": \"application/json\"}\n",
    "\n",
    "solr.delete_feature_store(SOLR_URL + \"/schema/feature-store/feature_store1\")\n",
    "solr.delete_model_store(SOLR_URL + \"/schema/model-store/linear_model1\")\n",
    "\n",
    "solr.delete_feature_store(SOLR_URL + \"/schema/feature-store/feature_store2\")\n",
    "solr.delete_model_store(SOLR_URL + \"/schema/model-store/linear_model2\")"
   ]
  },
  {
   "cell_type": "code",
   "execution_count": 4,
   "metadata": {},
   "outputs": [
    {
     "name": "stdout",
     "output_type": "stream",
     "text": [
      "{\n",
      "  \"responseHeader\":{\n",
      "    \"status\":0,\n",
      "    \"QTime\":2}}\n",
      "\n",
      "{\n",
      "  \"responseHeader\":{\n",
      "    \"status\":0,\n",
      "    \"QTime\":6}}\n",
      "\n",
      "{\n",
      "  \"responseHeader\":{\n",
      "    \"status\":0,\n",
      "    \"QTime\":17}}\n",
      "\n",
      "{\n",
      "  \"responseHeader\":{\n",
      "    \"status\":0,\n",
      "    \"QTime\":13}}\n",
      "\n"
     ]
    }
   ],
   "source": [
    "fs1 = solr.feature_store1()\n",
    "fs2 = solr.feature_store2()\n",
    "\n",
    "ms1 = solr.model_store1()\n",
    "ms2 = solr.model_store2()\n",
    "\n",
    "solr.create_feature_store(SOLR_URL + \"/schema/feature-store\", headers, json.dumps(fs1))\n",
    "solr.create_model_store(SOLR_URL + \"/schema/model-store\", headers, json.dumps(ms1))\n",
    "\n",
    "solr.create_feature_store(SOLR_URL + \"/schema/feature-store\", headers, json.dumps(fs2))\n",
    "solr.create_model_store(SOLR_URL + \"/schema/model-store\", headers, json.dumps(ms2))"
   ]
  }
 ],
 "metadata": {
  "kernelspec": {
   "display_name": "Python 3",
   "language": "python",
   "name": "python3"
  },
  "language_info": {
   "codemirror_mode": {
    "name": "ipython",
    "version": 3
   },
   "file_extension": ".py",
   "mimetype": "text/x-python",
   "name": "python",
   "nbconvert_exporter": "python",
   "pygments_lexer": "ipython3",
   "version": "3.8.3"
  }
 },
 "nbformat": 4,
 "nbformat_minor": 4
}
